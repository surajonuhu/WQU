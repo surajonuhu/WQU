{
 "cells": [
  {
   "cell_type": "markdown",
   "metadata": {},
   "source": [
    "### Using The `dotenv` Module"
   ]
  },
  {
   "cell_type": "markdown",
   "metadata": {},
   "source": [
    "We'll start by importing the needed `os` module and `dotenv` functions."
   ]
  },
  {
   "cell_type": "code",
   "execution_count": 21,
   "metadata": {},
   "outputs": [],
   "source": [
    "import os\n",
    "\n",
    "from dotenv import load_dotenv, set_key, unset_key"
   ]
  },
  {
   "cell_type": "markdown",
   "metadata": {},
   "source": [
    "Environmental variables are conventionally stored in a `.env` file. Environmental variables managed by `dotenv` are typically stored in a file named `.env`. This file is usually placed in the root directory of your project. Let's examine the structure and content of a typical `.env` file:\n",
    "\n",
    "1. Each line in the file represents a single environment variable.\n",
    "2. Variables are defined using the format: KEY=VALUE\n",
    "3. There should be no spaces around the equals sign.\n",
    "4. Values do not need to be enclosed in quotes unless they contain spaces.\n",
    "5. Comments can be added using the # symbol.\n",
    "\n",
    "Let's have a look at the `.env` file in this directory."
   ]
  },
  {
   "cell_type": "code",
   "execution_count": 22,
   "metadata": {},
   "outputs": [
    {
     "name": "stdout",
     "output_type": "stream",
     "text": [
      "# Some values we'll use for training\n",
      "MODEL_NAME=\"CompVis/stable-diffusion-v1-4\"\n",
      "DATASET_NAME=\"worldquant-university/maya-dataset-v1\"\n",
      "OUTPUT_DIR=\"maya_model_v1\"\n"
     ]
    }
   ],
   "source": [
    "!cat .env"
   ]
  },
  {
   "cell_type": "markdown",
   "metadata": {},
   "source": [
    "<div class=\"alert alert-info\" role=\"alert\">\n",
    "Watch out! There could be sensitive information in the output of the previous cell!\n",
    "\n",
    "You must clear the output of that cell, or delete the cell entirely, before sharing this notebook with anyone else.\n",
    "</div>"
   ]
  },
  {
   "cell_type": "markdown",
   "metadata": {},
   "source": [
    "The `load_dotenv()` function from the `dotenv` library reads the contents of the `.env` file and adds the defined variables to Python's environment."
   ]
  },
  {
   "cell_type": "code",
   "execution_count": 23,
   "metadata": {},
   "outputs": [
    {
     "data": {
      "text/plain": [
       "True"
      ]
     },
     "execution_count": 23,
     "metadata": {},
     "output_type": "execute_result"
    }
   ],
   "source": [
    "load_dotenv()"
   ]
  },
  {
   "cell_type": "markdown",
   "metadata": {},
   "source": [
    "We can access all the environment variables in the current Python session using `os.environ`. This includes the environment variables we just loaded from the `.env` file in the current directory. `os.environ` is a dictionary-like object, so you can use typical dictionary operations to interact with it. Let's show all the environment variables."
   ]
  },
  {
   "cell_type": "code",
   "execution_count": 24,
   "metadata": {},
   "outputs": [
    {
     "name": "stdout",
     "output_type": "stream",
     "text": [
      "PATH: /usr/local/bin:/usr/local/sbin:/usr/local/bin:/usr/sbin:/usr/bin:/sbin:/bin\n",
      "HOSTNAME: 7635b71438a4\n",
      "DW_CONTAINER_NAME: jupyter-fa590001\n",
      "DW_CONTAINER_HOST_NAME: us-east-13.prd.namespace.im\n",
      "LANG: C.UTF-8\n",
      "GPG_KEY: A035C8C19219BA821ECEA86B64E628F8D684696D\n",
      "PYTHON_VERSION: 3.11.0\n",
      "PYTHON_PIP_VERSION: 22.3\n",
      "PYTHON_SETUPTOOLS_VERSION: 65.5.0\n",
      "PYTHON_GET_PIP_URL: https://github.com/pypa/get-pip/raw/66030fa03382b4914d4c4d0896961a0bdeeeb274/public/get-pip.py\n",
      "PYTHON_GET_PIP_SHA256: 1e501cf004eac1b7eb1f97266d28f995ae835d30250bec7f8850562703067dc6\n",
      "NVIDIA_VISIBLE_DEVICES: 0\n",
      "HOME: /root\n",
      "JPY_SESSION_NAME: /app/061-fix-my-code.ipynb\n",
      "JPY_PARENT_PID: 1\n",
      "PYDEVD_USE_FRAME_EVAL: NO\n",
      "TERM: xterm-color\n",
      "CLICOLOR: 1\n",
      "FORCE_COLOR: 1\n",
      "CLICOLOR_FORCE: 1\n",
      "PAGER: cat\n",
      "GIT_PAGER: cat\n",
      "MPLBACKEND: module://matplotlib_inline.backend_inline\n",
      "MODEL_NAME: CompVis/stable-diffusion-v1-4\n",
      "DATASET_NAME: worldquant-university/maya-dataset-v1\n",
      "OUTPUT_DIR: maya_model_v1\n",
      "API_KEY: your_sample_api_key_here\n",
      "PASSWORD: qwerty\n"
     ]
    }
   ],
   "source": [
    "for key, value in os.environ.items():\n",
    "    print(f\"{key}: {value}\")"
   ]
  },
  {
   "cell_type": "markdown",
   "metadata": {},
   "source": [
    "It's often useful to retrieve the value of a specific environment variable using its key. "
   ]
  },
  {
   "cell_type": "code",
   "execution_count": 25,
   "metadata": {},
   "outputs": [
    {
     "name": "stdout",
     "output_type": "stream",
     "text": [
      "worldquant-university/maya-dataset-v1\n"
     ]
    }
   ],
   "source": [
    "print(os.environ[\"DATASET_NAME\"])"
   ]
  },
  {
   "cell_type": "markdown",
   "metadata": {},
   "source": [
    "### Set And Unset Keys"
   ]
  },
  {
   "cell_type": "markdown",
   "metadata": {},
   "source": [
    "The `set_key()` function from the `dotenv` library allows you to create or update an environment variable in your `.env` file. Here's how to use it:"
   ]
  },
  {
   "cell_type": "code",
   "execution_count": 26,
   "metadata": {},
   "outputs": [
    {
     "data": {
      "text/plain": [
       "(True, 'API_KEY', 'your_sample_api_key_here')"
      ]
     },
     "execution_count": 26,
     "metadata": {},
     "output_type": "execute_result"
    }
   ],
   "source": [
    "set_key(\n",
    "    dotenv_path=\".env\", key_to_set=\"API_KEY\", value_to_set=\"your_sample_api_key_here\"\n",
    ")"
   ]
  },
  {
   "cell_type": "code",
   "execution_count": 27,
   "metadata": {},
   "outputs": [
    {
     "name": "stdout",
     "output_type": "stream",
     "text": [
      "your_sample_api_key_here\n"
     ]
    }
   ],
   "source": [
    "# The new key-value pair must be reload from .env\n",
    "load_dotenv()\n",
    "\n",
    "# Use the key to find the value\n",
    "print(os.environ[\"API_KEY\"])"
   ]
  },
  {
   "cell_type": "markdown",
   "metadata": {},
   "source": [
    "It's a best practice to keep only the required environmental variables in `.env`. Let's remove the previous example from `.env` with the `unset_key` function."
   ]
  },
  {
   "cell_type": "code",
   "execution_count": 28,
   "metadata": {},
   "outputs": [
    {
     "data": {
      "text/plain": [
       "(True, 'API_KEY')"
      ]
     },
     "execution_count": 28,
     "metadata": {},
     "output_type": "execute_result"
    }
   ],
   "source": [
    "unset_key(dotenv_path=\".env\", key_to_unset=\"API_KEY\")"
   ]
  },
  {
   "cell_type": "markdown",
   "metadata": {},
   "source": [
    "Key points about `unset_key()`:\n",
    "\n",
    "1. It removes the specified variable from the `.env` file.\n",
    "2. If the variable doesn't exist, it does nothing (no error is raised).\n",
    "3. It only affects the `.env` file, not the current `os.environ`.\n",
    "\n"
   ]
  },
  {
   "cell_type": "markdown",
   "metadata": {},
   "source": [
    "### Forgetting To Reload Changes to `.env`"
   ]
  },
  {
   "cell_type": "markdown",
   "metadata": {},
   "source": [
    "One of the most common errors is forgetting to reload and updated version of the `.env`."
   ]
  },
  {
   "cell_type": "markdown",
   "metadata": {},
   "source": [
    "**Task 6.1.1:** Load the updated version of `.env` to get access to the `PASSWORD` value."
   ]
  },
  {
   "cell_type": "code",
   "execution_count": 29,
   "metadata": {},
   "outputs": [
    {
     "name": "stdout",
     "output_type": "stream",
     "text": [
      "qwerty\n"
     ]
    }
   ],
   "source": [
    "set_key(dotenv_path=\".env\", key_to_set=\"PASSWORD\", value_to_set=\"qwerty\")\n",
    "\n",
    "load_dotenv()\n",
    "\n",
    "print(os.environ[\"PASSWORD\"])"
   ]
  },
  {
   "cell_type": "code",
   "execution_count": 30,
   "metadata": {},
   "outputs": [
    {
     "data": {
      "text/plain": [
       "(True, 'PASSWORD')"
      ]
     },
     "execution_count": 30,
     "metadata": {},
     "output_type": "execute_result"
    }
   ],
   "source": [
    "# Remove example key\n",
    "unset_key(dotenv_path=\".env\", key_to_unset=\"PASSWORD\")"
   ]
  },
  {
   "cell_type": "markdown",
   "metadata": {},
   "source": [
    "### Spaces in Environment Variable"
   ]
  },
  {
   "cell_type": "markdown",
   "metadata": {},
   "source": [
    "It's a best practice to avoid spaces in environment variable names and values, this can prevent many errors in your code. Note that `load_dotenv()` will gracefully handle errors caused by spaces but the associated variable will not be loaded."
   ]
  },
  {
   "cell_type": "markdown",
   "metadata": {},
   "source": [
    "**Task 6.1.2:** Rename the environmental variable to be a valid environmental variable."
   ]
  },
  {
   "cell_type": "code",
   "execution_count": 31,
   "metadata": {},
   "outputs": [
    {
     "name": "stderr",
     "output_type": "stream",
     "text": [
      "python-dotenv could not parse statement starting at line 5\n"
     ]
    },
    {
     "name": "stdout",
     "output_type": "stream",
     "text": [
      "worldquant-university/maya-dataset-v1\n"
     ]
    }
   ],
   "source": [
    "set_key(\n",
    "    dotenv_path=\".env\",\n",
    "    key_to_set=\"DATABASE URL\",\n",
    "    value_to_set=\"your_sample_database_url\",\n",
    ")\n",
    "\n",
    "load_dotenv()\n",
    "\n",
    "print(os.environ[\"DATASET_NAME\"])"
   ]
  },
  {
   "cell_type": "markdown",
   "metadata": {},
   "source": [
    "We should remove the variable with a space from `.env`. That can't be done with `dotenv` but can do in Python."
   ]
  },
  {
   "cell_type": "code",
   "execution_count": 32,
   "metadata": {},
   "outputs": [],
   "source": [
    "# Open the .env file\n",
    "with open(\".env\", \"r\") as file:\n",
    "    lines = file.readlines()\n",
    "\n",
    "# Filter out the line with 'DATABASE URL'\n",
    "with open(\".env\", \"w\") as file:\n",
    "    for line in lines:\n",
    "        if not line.startswith(\"DATABASE URL\"):\n",
    "            file.write(line)"
   ]
  },
  {
   "cell_type": "code",
   "execution_count": 33,
   "metadata": {},
   "outputs": [
    {
     "name": "stderr",
     "output_type": "stream",
     "text": [
      "Key DATABASE_URL not removed from .env - key doesn't exist.\n"
     ]
    },
    {
     "data": {
      "text/plain": [
       "(None, 'DATABASE_URL')"
      ]
     },
     "execution_count": 33,
     "metadata": {},
     "output_type": "execute_result"
    }
   ],
   "source": [
    "# Remove example keys with dotenv\n",
    "# Recall trying to remove non-existing keys is okay\n",
    "unset_key(dotenv_path=\".env\", key_to_unset=\"DATABASE_URL\")"
   ]
  },
  {
   "cell_type": "markdown",
   "metadata": {},
   "source": [
    "### Environment Variable Values As Strings"
   ]
  },
  {
   "cell_type": "markdown",
   "metadata": {},
   "source": [
    "A common error is not defining environment variable values as strings. Environment variables are \n",
    "expected to be represented as strings to ensure compatibility across systems."
   ]
  },
  {
   "cell_type": "markdown",
   "metadata": {},
   "source": [
    "**Task 6.1.3:** Change the `value_to_set` to be a string."
   ]
  },
  {
   "cell_type": "code",
   "execution_count": 34,
   "metadata": {},
   "outputs": [
    {
     "data": {
      "text/plain": [
       "(True, 'DEBUG', 'True')"
      ]
     },
     "execution_count": 34,
     "metadata": {},
     "output_type": "execute_result"
    }
   ],
   "source": [
    "set_key(\n",
    "    dotenv_path=\".env\",\n",
    "    key_to_set=\"DEBUG\",\n",
    "    value_to_set=\"True\", # new value\n",
    ")\n"
   ]
  },
  {
   "cell_type": "markdown",
   "metadata": {},
   "source": [
    "Once you're done, remember to unset the key:"
   ]
  },
  {
   "cell_type": "code",
   "execution_count": 36,
   "metadata": {},
   "outputs": [
    {
     "data": {
      "text/plain": [
       "(True, 'DEBUG')"
      ]
     },
     "execution_count": 36,
     "metadata": {},
     "output_type": "execute_result"
    }
   ],
   "source": [
    "# Remove example key\n",
    "unset_key(dotenv_path=\".env\", key_to_unset=\"DEBUG\")"
   ]
  },
  {
   "cell_type": "markdown",
   "metadata": {},
   "source": [
    "### Gracefully Handling A Missing Key"
   ]
  },
  {
   "cell_type": "markdown",
   "metadata": {},
   "source": [
    "Recall that `os.environ` is a dictionary-like object that represents environment variables as key-value pairs. For standard Python dictionaries, key look-up can be done with either square bracket notation (`[]`) or the `get()` method. For environment variables, key look-up can be performed using either square bracket notation (`os.environ[]`) or the `os.environ.get()` function.\n",
    "\n",
    "In both cases, using the `get` version (`dict.get()` or `os.environ.get()`) is preferred when you want to avoid raising a `KeyError` for non-existent keys and optionally provide a default value / message. "
   ]
  },
  {
   "cell_type": "markdown",
   "metadata": {},
   "source": [
    "**Task 6.1.4:** Replace `os.environ[]` with `os.environ.get()`, including a helpful message, for non-existent key look-up."
   ]
  },
  {
   "cell_type": "code",
   "execution_count": 41,
   "metadata": {},
   "outputs": [
    {
     "name": "stdout",
     "output_type": "stream",
     "text": [
      "qwerty\n"
     ]
    }
   ],
   "source": [
    "load_dotenv()\n",
    "print(os.environ.get(key))"
   ]
  },
  {
   "cell_type": "markdown",
   "metadata": {},
   "source": [
    "To recap, we managed environment variables in Python using the `dotenv` library. We were able to load variables from `.env` and create and delete variables in that file. `os.environ` is a dictionary-like object for accessing environment variables. Environment variables store potentially sensitive information so they must be carefully handled."
   ]
  },
  {
   "cell_type": "code",
   "execution_count": null,
   "metadata": {},
   "outputs": [],
   "source": []
  }
 ],
 "metadata": {
  "kernelspec": {
   "display_name": "Python 3 (ipykernel)",
   "language": "python",
   "name": "python3"
  },
  "language_info": {
   "codemirror_mode": {
    "name": "ipython",
    "version": 3
   },
   "file_extension": ".py",
   "mimetype": "text/x-python",
   "name": "python",
   "nbconvert_exporter": "python",
   "pygments_lexer": "ipython3",
   "version": "3.11.0"
  },
  "widgets": {
   "application/vnd.jupyter.widget-state+json": {
    "state": {},
    "version_major": 2,
    "version_minor": 0
   }
  }
 },
 "nbformat": 4,
 "nbformat_minor": 4
}
